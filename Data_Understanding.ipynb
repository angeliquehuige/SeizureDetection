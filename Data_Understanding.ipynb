{
 "cells": [
  {
   "cell_type": "markdown",
   "metadata": {},
   "source": [
    "# CRISP-DM: Data Understanding"
   ]
  },
  {
   "cell_type": "markdown",
   "metadata": {},
   "source": [
    "## Imports"
   ]
  },
  {
   "cell_type": "code",
   "execution_count": 1,
   "metadata": {},
   "outputs": [],
   "source": [
    "import platform\n",
    "import os\n",
    "import gc\n",
    "import random\n",
    "import numpy as np\n",
    "import pandas as pd\n",
    "from datetime import timedelta\n",
    "\n",
    "import mne\n",
    "mne.set_log_level('error')\n",
    "import matplotlib.pyplot as plt\n",
    "import seaborn as sns\n",
    "from tqdm import tqdm"
   ]
  },
  {
   "cell_type": "markdown",
   "metadata": {},
   "source": [
    "## Collect Initial Data"
   ]
  },
  {
   "cell_type": "markdown",
   "metadata": {},
   "source": [
    "**Selection**\n",
    "\n",
    "The data used for the research is from (medically-induced) comatose pediatric patients. The selection consists of 127 EEG recordings from such patients in Erasmus MC's Pediatric Intensive Care Unit (PICU). These are selected specifically for the research by the neurologist (R. van den Berg) supervising this project, based on their availability quality and relevance. The data consists of various length recordings which are labeled with annotations, including the event that a seizure occurred."
   ]
  },
  {
   "cell_type": "markdown",
   "metadata": {},
   "source": [
    "**Storage**\n",
    "\n",
    "The data is stored on and accessible through an anDREa workspace. The Digital Research Environment (DRE) is used by various UMCs in the Netherlands to conduct research while accounting for security, data privacy, and computational needs. The sample EEG recordings have undergone a process of some sort, after which they are made available in EDF format, accessible via a Azure Virtual Machine on the workspace in a dedicated project directory. Since patient data is stored here, there is no Internet access in the VM to minimise the risk of a data breach."
   ]
  },
  {
   "cell_type": "code",
   "execution_count": 2,
   "metadata": {},
   "outputs": [],
   "source": [
    "# Define directory paths with relevant system prefix\n",
    "def define_paths(project_dir, data_dir):\n",
    "    SYSTEM = platform.system()\n",
    "    if SYSTEM not in ('Windows', 'Linux'):\n",
    "        raise Exception(f'Unsupported platform: {SYSTEM}')\n",
    "    \n",
    "    disk_prefix = None\n",
    "\n",
    "    if SYSTEM == 'Windows':\n",
    "        disk_prefix = 'Z:/'\n",
    "    elif SYSTEM == 'Linux':\n",
    "        disk_prefix = '/media/mount/'\n",
    "\n",
    "    project_path = os.path.join(disk_prefix, project_dir)\n",
    "    data_path = os.path.join(project_path, data_dir)\n",
    "\n",
    "    return project_path, data_path"
   ]
  },
  {
   "cell_type": "code",
   "execution_count": 3,
   "metadata": {},
   "outputs": [],
   "source": [
    "# Select all EDF files in data directory\n",
    "def select_edf_files(data_path):\n",
    "    edf_files = [file for file in os.listdir(data_path) if file.endswith('.edf')]\n",
    "    print(f\"{len(edf_files)} EDF files available\")\n",
    "\n",
    "    return edf_files"
   ]
  },
  {
   "cell_type": "code",
   "execution_count": 4,
   "metadata": {},
   "outputs": [
    {
     "name": "stdout",
     "output_type": "stream",
     "text": [
      "127 EDF files available\n"
     ]
    }
   ],
   "source": [
    "# Define paths and select files\n",
    "project_dir = '08_DeepLearning_SeizureDetection/'\n",
    "project_path, data_path = define_paths(project_dir, data_dir='_01_Raw_Data/EDF/')\n",
    "\n",
    "edf_files = select_edf_files(data_path)"
   ]
  },
  {
   "cell_type": "markdown",
   "metadata": {},
   "source": [
    "**Loading**\n",
    "\n",
    "The data is loaded with MNE, which is an open-source Python package for exploring, visualizing, and analyzing human neurophysiological data, including EEG. Loading the data can be very memory intensive. The EDF file sizes range from 7 Megabytes to 9 Gigabytes. Loading the files can require a lot of working memory if the file itself is also large in size. Since most values are represented as floating-point numbers with 6 decimal places, this causes a large memory footprint."
   ]
  },
  {
   "cell_type": "markdown",
   "metadata": {},
   "source": [
    "**Problem Handling**\n",
    "\n",
    "To limit memory constraints, a number of solutions are applied. First of all, data is not pre-loaded but only read initially. During this, datatypes are inferred, of which only EEG channels are selected. This omits technical and other physiological data channels such as movement of the extremities, eye movement, respiration and oxygen saturation. This is possible because only EEG channels are selected for inclusion in data analysis and training the model.\n",
    "\n",
    "If a recording is still too large to load despite applying the steps above, there is a different approach. Some files may exceed the available committed memory (75 GB), even after raising the VM's RAM from 16 GB to 64 GB. If the file is this large it means that it is a long recording (e.g. 5 days of continuous monitoring). It is important to still include large files these in the data selection, as they may include many seizures and data with labeled seizures is often in short supply. The number of seizures annotated is often related to the length of the recording. \n",
    "\n",
    "To still include large files in the loading is separated into two processes for the large files : seizure and non-seizure handling. The data is first read without preloading to extract seizure annotations. The data is then cropped by these annotations times, resulting in a raw object for each individual seizure, which is loaded and concatenated at a later point. Based on the number of epochs (10s segment) that fit in the seizure data, the same amount of data is loaded to get non-seizure data. E.g., if a recording consists of a total of 300 seconds of ictal data, 300 seconds of seizure-free data is loaded in segments."
   ]
  },
  {
   "cell_type": "markdown",
   "metadata": {},
   "source": [
    "**Loading a sample**"
   ]
  },
  {
   "cell_type": "code",
   "execution_count": 5,
   "metadata": {},
   "outputs": [],
   "source": [
    "# Define EEG channel names for selection\n",
    "eeg_channels = [\n",
    "    'Fp1', 'Fp2', 'F3', 'F4',\n",
    "    'F7',  'F8',  'Fz',  'C3', \n",
    "    'C4',  'Cz',  'T3',  'T4', \n",
    "    'T5',  'T6',  'P3',  'P4', \n",
    "    'Pz',  'O1',  'O2'\n",
    "]"
   ]
  },
  {
   "cell_type": "code",
   "execution_count": 6,
   "metadata": {},
   "outputs": [],
   "source": [
    "# Loading function\n",
    "def load_raw(data_path, file, seizures_only, load):\n",
    "    try:\n",
    "        file_path = os.path.join(data_path, file)\n",
    "        raw = mne.io.read_raw_edf(file_path, infer_types=True, include=eeg_channels, preload=False)\n",
    "\n",
    "        if seizures_only == True: # only loads files with seizures\n",
    "            # Check if the recording contains seizures\n",
    "            if not any('AANVAL' in ann['description'] for ann in raw.annotations):\n",
    "                raise Exception('No seizures detected in the data')\n",
    "            else:\n",
    "                seizure_subjects.append(file)\n",
    "        \n",
    "        if load == True:\n",
    "            raw.load_data()\n",
    "\n",
    "            raw.set_channel_types({ch: 'eeg' for ch in raw.ch_names})\n",
    "            raw.set_eeg_reference(ref_channels='average')\n",
    "\n",
    "        return raw\n",
    "    \n",
    "    except Exception as e:\n",
    "        print(f\"{file} did not load: {e}\")\n",
    "        return None"
   ]
  },
  {
   "cell_type": "code",
   "execution_count": null,
   "metadata": {},
   "outputs": [],
   "source": [
    "# Pick random file as sample and try reading/loading until succesful\n",
    "while True:\n",
    "    file = random.choice(edf_files)\n",
    "    print(f'Loading {file}...')\n",
    "\n",
    "    sample = load_raw(data_path, file, seizures_only=False, load=True)\n",
    "\n",
    "    if sample is not None:\n",
    "        break\n",
    "        print(f'Succesfully loaded EEG data')"
   ]
  },
  {
   "cell_type": "code",
   "execution_count": null,
   "metadata": {},
   "outputs": [],
   "source": [
    "sample"
   ]
  },
  {
   "cell_type": "markdown",
   "metadata": {},
   "source": [
    "## Describe data"
   ]
  },
  {
   "cell_type": "markdown",
   "metadata": {},
   "source": [
    "### Data description report"
   ]
  },
  {
   "cell_type": "markdown",
   "metadata": {},
   "source": [
    "#### Per subject"
   ]
  },
  {
   "cell_type": "markdown",
   "metadata": {},
   "source": [
    "When convering the RawEDF object to a Pandas DataFrame, the float values are converted from volt to microvolt"
   ]
  },
  {
   "cell_type": "code",
   "execution_count": null,
   "metadata": {},
   "outputs": [],
   "source": [
    "sample_df = sample.to_data_frame()\n",
    "sample_df.head()"
   ]
  },
  {
   "cell_type": "markdown",
   "metadata": {},
   "source": [
    "All values are float64 with 6 decimal points and there are no missing values"
   ]
  },
  {
   "cell_type": "code",
   "execution_count": null,
   "metadata": {},
   "outputs": [],
   "source": [
    "sample_df.info()"
   ]
  },
  {
   "cell_type": "code",
   "execution_count": null,
   "metadata": {},
   "outputs": [],
   "source": [
    "sample_df.describe()"
   ]
  },
  {
   "cell_type": "markdown",
   "metadata": {},
   "source": [
    "It is also possible to generate descriptive statistics directly on the RawEDF, but this excludes mean and standard deviation"
   ]
  },
  {
   "cell_type": "code",
   "execution_count": null,
   "metadata": {},
   "outputs": [],
   "source": [
    "sample.describe()"
   ]
  },
  {
   "cell_type": "code",
   "execution_count": null,
   "metadata": {},
   "outputs": [],
   "source": [
    "dur = sample._data.shape[1] / sample.info['sfreq']\n",
    "segment_dur = 10\n",
    "start_time = random.uniform(0, dur - segment_dur)\n",
    "end_time = start_time + segment_dur"
   ]
  },
  {
   "cell_type": "code",
   "execution_count": null,
   "metadata": {},
   "outputs": [],
   "source": [
    "def plot_sample(start_time, end_times, channels, lobe):\n",
    "    fig, ax = plt.subplots(figsize=[15, 5])\n",
    "\n",
    "    for ch in channels:\n",
    "        data = sample.get_data(picks=ch, tmin=start_time, tmax=end_time).T\n",
    "        times = np.linspace(0, 10, num=data.shape[0])\n",
    "        ax.plot(times, data * 1e5, label=ch, linewidth=1)\n",
    "\n",
    "    plt.text(0, 1.01, '1e-5', transform=ax.transAxes)\n",
    "    plt.title(f'Raw {segment_dur}s sample of {lobe} electrodes')\n",
    "    plt.xlabel('Time (s)')\n",
    "    plt.xticks(np.arange(0, 11, 1))\n",
    "    plt.ylabel('Voltage (µV)')\n",
    "    plt.legend()\n",
    "    plt.show()\n",
    "\n",
    "    #fig.savefig(f'random_sample_{channels}.png')\n",
    "    print(f'Start time: {start_time} s')\n",
    "    return fig\n"
   ]
  },
  {
   "cell_type": "markdown",
   "metadata": {},
   "source": [
    "Plotting a selection of channels with matplotlib"
   ]
  },
  {
   "cell_type": "code",
   "execution_count": null,
   "metadata": {},
   "outputs": [],
   "source": [
    "sample_fig = plot_sample(start_time, end_time, channels=['P3', 'P4', 'Pz'], lobe='parietal')"
   ]
  },
  {
   "cell_type": "markdown",
   "metadata": {},
   "source": [
    "Plotting the entire EEG and select a segment with MNE visualization"
   ]
  },
  {
   "cell_type": "code",
   "execution_count": null,
   "metadata": {},
   "outputs": [],
   "source": [
    "sample.plot(start=start_time, duration=segment_dur)"
   ]
  },
  {
   "cell_type": "markdown",
   "metadata": {},
   "source": [
    "Relationship between electrodes\n",
    "\n",
    "As EEG abnormalities can be focal, regional, or hemispheric. This could very well result in an attribute relationship between electrodes."
   ]
  },
  {
   "cell_type": "code",
   "execution_count": null,
   "metadata": {},
   "outputs": [],
   "source": [
    "corr = sample_df.drop(columns=['time']).corr()\n",
    "plt.figure(figsize=(14, 12))\n",
    "corr_matrix = sns.heatmap(corr, fmt='.2f', cmap='coolwarm', cbar_kws={'label':'Correlation'}, annot=True, linewidths=.5)\n",
    "plt.title('Correlation Matrix of Electrode Values Across EEG')\n",
    "plt.show()\n",
    "\n",
    "fig = corr_matrix.get_figure()\n",
    "#fig.savefig('Sample Electrode Heatmap.png')"
   ]
  },
  {
   "cell_type": "code",
   "execution_count": null,
   "metadata": {},
   "outputs": [],
   "source": [
    "psd = sample.compute_psd()\n",
    "psd = psd.plot()\n",
    "#psd.savefig(f'PSD_plot.png')"
   ]
  },
  {
   "cell_type": "markdown",
   "metadata": {},
   "source": [
    "#### All subjects\n",
    "A number of description methods are applied to all subjects together, as it can be difficult to describe each recording individually. The DataFrame below shows information extracted from each file and summarized."
   ]
  },
  {
   "cell_type": "code",
   "execution_count": null,
   "metadata": {},
   "outputs": [],
   "source": [
    "def get_eeg_info(file, data_path, seizure_only):\n",
    "    raw = load_raw(data_path, file, seizures_only=seizure_only, load=False)\n",
    "\n",
    "    if raw is not None:\n",
    "        seizures = raw.annotations[raw.annotations.description == 'AANVAL'] # Annotations with 'SEIZURE' as description\n",
    "        raw.annotations[raw.annotations.description == 'AANVAL']\n",
    "        file_path = os.path.join(data_path, file)\n",
    "\n",
    "        try:\n",
    "            min_dur = int(min(seizures.duration).round())\n",
    "            max_dur = int(max(seizures.duration).round())\n",
    "        except Exception:\n",
    "            min_dur = np.nan\n",
    "            max_dur = np.nan\n",
    "            \n",
    "        return {\n",
    "            'Subject ID' : '_'.join(os.path.splitext(file)[0].rsplit('_', 2)[-2:]),\n",
    "            'Duration' : timedelta(seconds=int(raw.times[-1])),\n",
    "            'Duration (s)' : int(raw.times[-1]),\n",
    "            'Number of seizures' : len(seizures),\n",
    "            'Total duration of all seizures (s)' : np.sum(seizures.duration).round(),\n",
    "            'Average duration of seizures (s)' : np.median(seizures.duration).round(),\n",
    "            'Min duration of seizures (s)' : min_dur,\n",
    "            'Max duration of seizures (s)' : max_dur,\n",
    "            'Number of EEG channels' : len(raw.info['ch_names']),\n",
    "            'Channel names' : raw.ch_names,\n",
    "            'Sampling frequency (Hz)' : raw.info['sfreq'],\n",
    "            'Highpass' : raw.info['highpass'],\n",
    "            'Lowpass' : raw.info['lowpass'],        \n",
    "            'File size (MB)' : int(os.path.getsize(file_path) / (1024 ** 2))\n",
    "        }\n",
    "\n",
    "columns = [\n",
    "'Subject ID', 'Duration', 'Duration (s)',\n",
    "'Number of seizures', 'Total duration of all seizures (s)', 'Average duration of seizures (s)',\n",
    "'Min duration of seizures (s)', 'Max duration of seizures (s)', 'Number of EEG channels', 'Channel names',\n",
    "'Sampling frequency (Hz)', 'Highpass', 'Lowpass', 'File size (MB)'\n",
    "]\n",
    "\n",
    "data_description_df = pd.DataFrame(columns=columns)"
   ]
  },
  {
   "cell_type": "code",
   "execution_count": null,
   "metadata": {},
   "outputs": [],
   "source": [
    "# ecg - electrocardiogram (heart)\n",
    "# eeg - electroencephalogram (brain)\n",
    "# emg - electromyogram (muscles)\n",
    "# eog - electrooculogram (eyes)\n",
    "# misc - miscellaneous\n",
    "# resp - changes in chest or abdominal movements related to breathing\n",
    "# stim - stimulus / triggers\n",
    "# syst - monitoring system\n",
    "\n",
    "ch_type_dict = {\n",
    "    'EEG Fp1' : 'eeg', 'EEG Fp2' : 'eeg', 'EEG F3' : 'eeg',\n",
    "    'EEG F4' : 'eeg', 'EEG F7' : 'eeg', 'EEG F8' : 'eeg',\n",
    "    'EEG Fz' : 'eeg', 'EEG C3' : 'eeg', 'EEG C4' : 'eeg',\n",
    "    'EEG Cz' : 'eeg', 'EEG T3' : 'eeg', 'EEG T4' : 'eeg',\n",
    "    'EEG T5' : 'eeg', 'EEG T6' : 'eeg', 'EEG P3' : 'eeg',\n",
    "    'EEG P4' : 'eeg', 'EEG Pz' : 'eeg', 'EEG O1' : 'eeg',\n",
    "    'EEG O2' : 'eeg',\n",
    "\n",
    "    'ECG' : 'ecg', 'ECG-0' : 'ecg', 'ECG-1' : 'ecg',\n",
    "\n",
    "    'Unspec Beweging-0' : 'emg', 'Unspec Beweging-1' : 'emg',\n",
    "    'EMG Kin Beweging' : 'emg', 'EMG Kin rec' : 'emg',\n",
    "    'EMG Kin lin' : 'emg', 'EMG Kin beweging' : 'emg',\n",
    "    'EMG Ch7' : 'emg', 'EMG Ch8' : 'emg',\n",
    "\n",
    "    'Unspec Ademhalin' : 'resp', 'Resp Ademhaling' : 'resp',\n",
    "    'Resp RESP' : 'resp', 'Resp RESP #2' : 'resp',\n",
    "    \n",
    "    'SaO2 Saturatie' : 'misc', 'SaO2 HR' : 'misc',\n",
    "    'SaO2 SpO2' : 'misc', 'SaO2 SPO2 #2' : 'misc',\n",
    "    \n",
    "    'EOG EOG' : 'eog',\n",
    "    'Light Stimuli' : 'stim',\n",
    "\n",
    "    'Unspec Sig Buf' : 'syst', 'Unspec CPU' : 'syst',\n",
    "    'Unspec Mem' : 'syst', 'Unspec App CPU' : 'syst',\n",
    "    'Unspec App Mem' : 'syst', 'Unspec App VMem' : 'syst',\n",
    "    'Unspec Network' : 'syst', 'Unspec Dev Cntr' : 'syst',\n",
    "    'Unspec Rec Cntr' : 'syst', 'Unspec Rec Crc' : 'syst',\n",
    "\n",
    "    'BloodP ART S' : 'misc', 'BloodP ART D' : 'misc',\n",
    "    'BloodP ART M' : 'misc', 'BloodP ART' : 'misc',\n",
    "}"
   ]
  },
  {
   "cell_type": "code",
   "execution_count": null,
   "metadata": {},
   "outputs": [],
   "source": [
    "seizure_files = [\n",
    " 'EXP_EMC_BR2_0000210#01.edf','EXP_EMC_BR3_0000495#01.edf','EXP_EMC_BR3_0000520#01.edf',\n",
    " 'EXP_EMC_M15_0000099#01.edf','EXP_EMC_M15_0000106#01.edf','EXP_EMC_M15_0000120#01.edf',\n",
    " 'EXP_EMC_M15_0000139#01.edf','EXP_EMC_M15_0000151#01.edf','EXP_EMC_M15_0000241#01.edf',\n",
    " 'EXP_EMC_M15_0000311#01.edf','EXP_EMC_M15_0000333#01.edf','EXP_EMC_M15_0000434#01.edf',\n",
    " 'EXP_EMC_M15_0000469#01.edf','EXP_EMC_M15_0000556#01.edf','EXP_EMC_M15_0000568#01.edf',\n",
    " 'EXP_EMC_M15_0000574#01.edf','EXP_EMC_M15_0000615#01.edf','EXP_EMC_M16_0000070#01.edf',\n",
    " 'EXP_EMC_M16_0000109#01.edf','EXP_EMC_M16_0000110#01.edf','EXP_EMC_M16_0000111#01.edf',\n",
    " 'EXP_EMC_M16_0000153#01.edf','EXP_EMC_M16_0000168#01.edf','EXP_EMC_M16_0000232#01.edf',\n",
    " 'EXP_EMC_M16_0000233#01.edf','EXP_EMC_M16_0000243#01.edf','EXP_EMC_M16_0000244#01.edf',\n",
    " 'EXP_EMC_M16_0000351#01.edf','EXP_EMC_M16_0000541#01.edf','EXP_EMC_M16_0000542#01.edf',\n",
    " 'EXP_EMC_M16_0000555#01.edf','EXP_EMC_M16_0000579#01.edf','EXP_EMC_M16_0000580#01.edf',\n",
    " 'EXP_EMC_M16_0000583#01.edf','EXP_EMC_M16_0000600#01.edf','EXP_EMC_M18_0001180#01.edf',\n",
    " 'EXP_EMC_M6b_0000513#01.edf'\n",
    " ]"
   ]
  },
  {
   "cell_type": "code",
   "execution_count": null,
   "metadata": {},
   "outputs": [],
   "source": [
    "sample"
   ]
  },
  {
   "cell_type": "code",
   "execution_count": null,
   "metadata": {},
   "outputs": [],
   "source": [
    "seizure_subjects = []\n",
    "\n",
    "for file in tqdm(edf_files):\n",
    "    file_info = get_eeg_info(file, data_path, seizure_only=False)\n",
    "    data_description_df = pd.concat([data_description_df, pd.DataFrame([file_info])], ignore_index=True)"
   ]
  },
  {
   "cell_type": "code",
   "execution_count": null,
   "metadata": {},
   "outputs": [],
   "source": [
    "data_description_df"
   ]
  },
  {
   "cell_type": "code",
   "execution_count": null,
   "metadata": {},
   "outputs": [],
   "source": [
    "data_description_df.to_csv('Data Description DataFrame all files.csv')"
   ]
  },
  {
   "cell_type": "code",
   "execution_count": 7,
   "metadata": {},
   "outputs": [
    {
     "name": "stderr",
     "output_type": "stream",
     "text": [
      "  0%|          | 0/127 [00:00<?, ?it/s]"
     ]
    },
    {
     "name": "stderr",
     "output_type": "stream",
     "text": [
      " 17%|█▋        | 21/127 [16:04<3:09:12, 107.10s/it]"
     ]
    },
    {
     "name": "stdout",
     "output_type": "stream",
     "text": [
      "Unable to allocate 19.6 GiB for an array with shape (20, 131652096) and data type float64\n"
     ]
    },
    {
     "name": "stderr",
     "output_type": "stream",
     "text": [
      " 28%|██▊       | 36/127 [31:42<3:31:44, 139.61s/it]"
     ]
    },
    {
     "name": "stdout",
     "output_type": "stream",
     "text": [
      "Unable to allocate 28.4 GiB for an array with shape (20, 190688256) and data type float64\n"
     ]
    },
    {
     "name": "stderr",
     "output_type": "stream",
     "text": [
      " 62%|██████▏   | 79/127 [1:27:28<2:26:58, 183.72s/it]"
     ]
    },
    {
     "name": "stdout",
     "output_type": "stream",
     "text": [
      "Unable to allocate 23.0 GiB for an array with shape (20, 154168576) and data type float64\n"
     ]
    },
    {
     "name": "stderr",
     "output_type": "stream",
     "text": [
      "100%|██████████| 127/127 [2:32:45<00:00, 72.17s/it]  \n"
     ]
    }
   ],
   "source": [
    "combined_descriptions = pd.DataFrame()\n",
    "\n",
    "for file in tqdm(edf_files):\n",
    "    try:\n",
    "        raw = load_raw(data_path, file, seizures_only=False, load=False)\n",
    "        raw = raw.to_data_frame()\n",
    "        raw = raw.describe()\n",
    "        description = raw.T\n",
    "        subject_id = '_'.join(os.path.splitext(file)[0].rsplit('_', 2)[-2:])\n",
    "        description.insert(0, 'subject', subject_id)\n",
    "        combined_descriptions = pd.concat([combined_descriptions, description])\n",
    "        combined_descriptions.drop(combined_descriptions.index[0], inplace=True)\n",
    "        for col in ['mean', 'std', 'min', '25%', '50%', '75%', 'max']:\n",
    "            df[col] = df[col].round(2)\n",
    "\n",
    "    except Exception as e:\n",
    "        print(e)\n",
    "\n",
    "combined_descriptions.reset_index(inplace=True)"
   ]
  },
  {
   "cell_type": "code",
   "execution_count": 8,
   "metadata": {},
   "outputs": [
    {
     "data": {
      "text/html": [
       "<div>\n",
       "<style scoped>\n",
       "    .dataframe tbody tr th:only-of-type {\n",
       "        vertical-align: middle;\n",
       "    }\n",
       "\n",
       "    .dataframe tbody tr th {\n",
       "        vertical-align: top;\n",
       "    }\n",
       "\n",
       "    .dataframe thead th {\n",
       "        text-align: right;\n",
       "    }\n",
       "</style>\n",
       "<table border=\"1\" class=\"dataframe\">\n",
       "  <thead>\n",
       "    <tr style=\"text-align: right;\">\n",
       "      <th></th>\n",
       "      <th>index</th>\n",
       "      <th>Subject ID</th>\n",
       "      <th>count</th>\n",
       "      <th>mean</th>\n",
       "      <th>std</th>\n",
       "      <th>min</th>\n",
       "      <th>25%</th>\n",
       "      <th>50%</th>\n",
       "      <th>75%</th>\n",
       "      <th>max</th>\n",
       "    </tr>\n",
       "  </thead>\n",
       "  <tbody>\n",
       "    <tr>\n",
       "      <th>0</th>\n",
       "      <td>time</td>\n",
       "      <td>BR2_0000210#01</td>\n",
       "      <td>2743040.0</td>\n",
       "      <td>5357.498047</td>\n",
       "      <td>3093.154631</td>\n",
       "      <td>0.000000</td>\n",
       "      <td>2678.749023</td>\n",
       "      <td>5357.498047</td>\n",
       "      <td>8036.247070</td>\n",
       "      <td>10714.996094</td>\n",
       "    </tr>\n",
       "    <tr>\n",
       "      <th>1</th>\n",
       "      <td>Fp1</td>\n",
       "      <td>BR2_0000210#01</td>\n",
       "      <td>2743040.0</td>\n",
       "      <td>-11.713426</td>\n",
       "      <td>78.101756</td>\n",
       "      <td>-4990.685893</td>\n",
       "      <td>-25.143572</td>\n",
       "      <td>-14.406104</td>\n",
       "      <td>-3.131762</td>\n",
       "      <td>5012.518746</td>\n",
       "    </tr>\n",
       "    <tr>\n",
       "      <th>2</th>\n",
       "      <td>Fp2</td>\n",
       "      <td>BR2_0000210#01</td>\n",
       "      <td>2743040.0</td>\n",
       "      <td>27.059675</td>\n",
       "      <td>79.431962</td>\n",
       "      <td>-4990.327977</td>\n",
       "      <td>10.469032</td>\n",
       "      <td>24.606699</td>\n",
       "      <td>39.639155</td>\n",
       "      <td>5012.339788</td>\n",
       "    </tr>\n",
       "    <tr>\n",
       "      <th>3</th>\n",
       "      <td>F3</td>\n",
       "      <td>BR2_0000210#01</td>\n",
       "      <td>2743040.0</td>\n",
       "      <td>-88.300863</td>\n",
       "      <td>74.916126</td>\n",
       "      <td>-4991.043809</td>\n",
       "      <td>-93.505455</td>\n",
       "      <td>-89.031510</td>\n",
       "      <td>-84.915480</td>\n",
       "      <td>5010.371252</td>\n",
       "    </tr>\n",
       "    <tr>\n",
       "      <th>4</th>\n",
       "      <td>F4</td>\n",
       "      <td>BR2_0000210#01</td>\n",
       "      <td>2743040.0</td>\n",
       "      <td>-58.152608</td>\n",
       "      <td>75.804326</td>\n",
       "      <td>-4990.149020</td>\n",
       "      <td>-67.914488</td>\n",
       "      <td>-58.787640</td>\n",
       "      <td>-49.123919</td>\n",
       "      <td>5011.087083</td>\n",
       "    </tr>\n",
       "    <tr>\n",
       "      <th>...</th>\n",
       "      <td>...</td>\n",
       "      <td>...</td>\n",
       "      <td>...</td>\n",
       "      <td>...</td>\n",
       "      <td>...</td>\n",
       "      <td>...</td>\n",
       "      <td>...</td>\n",
       "      <td>...</td>\n",
       "      <td>...</td>\n",
       "      <td>...</td>\n",
       "    </tr>\n",
       "    <tr>\n",
       "      <th>2474</th>\n",
       "      <td>T6</td>\n",
       "      <td>M6b_0000513#01</td>\n",
       "      <td>78094250.0</td>\n",
       "      <td>0.033917</td>\n",
       "      <td>30.758432</td>\n",
       "      <td>-2286.793317</td>\n",
       "      <td>-7.858396</td>\n",
       "      <td>-0.228885</td>\n",
       "      <td>7.553216</td>\n",
       "      <td>5000.000000</td>\n",
       "    </tr>\n",
       "    <tr>\n",
       "      <th>2475</th>\n",
       "      <td>P3</td>\n",
       "      <td>M6b_0000513#01</td>\n",
       "      <td>78094250.0</td>\n",
       "      <td>0.107160</td>\n",
       "      <td>339.379215</td>\n",
       "      <td>-5000.000000</td>\n",
       "      <td>-206.225681</td>\n",
       "      <td>0.076295</td>\n",
       "      <td>207.751583</td>\n",
       "      <td>5000.000000</td>\n",
       "    </tr>\n",
       "    <tr>\n",
       "      <th>2476</th>\n",
       "      <td>P4</td>\n",
       "      <td>M6b_0000513#01</td>\n",
       "      <td>78094250.0</td>\n",
       "      <td>0.084863</td>\n",
       "      <td>374.538066</td>\n",
       "      <td>-5000.000000</td>\n",
       "      <td>-231.403067</td>\n",
       "      <td>-0.381476</td>\n",
       "      <td>232.013428</td>\n",
       "      <td>5000.000000</td>\n",
       "    </tr>\n",
       "    <tr>\n",
       "      <th>2477</th>\n",
       "      <td>O1</td>\n",
       "      <td>M6b_0000513#01</td>\n",
       "      <td>78094250.0</td>\n",
       "      <td>0.039952</td>\n",
       "      <td>21.071800</td>\n",
       "      <td>-2314.869917</td>\n",
       "      <td>-7.553216</td>\n",
       "      <td>0.076295</td>\n",
       "      <td>7.553216</td>\n",
       "      <td>2598.992905</td>\n",
       "    </tr>\n",
       "    <tr>\n",
       "      <th>2478</th>\n",
       "      <td>O2</td>\n",
       "      <td>M6b_0000513#01</td>\n",
       "      <td>78094250.0</td>\n",
       "      <td>0.031878</td>\n",
       "      <td>45.302719</td>\n",
       "      <td>-2713.740749</td>\n",
       "      <td>-9.079118</td>\n",
       "      <td>0.228885</td>\n",
       "      <td>9.384298</td>\n",
       "      <td>5000.000000</td>\n",
       "    </tr>\n",
       "  </tbody>\n",
       "</table>\n",
       "<p>2479 rows × 10 columns</p>\n",
       "</div>"
      ],
      "text/plain": [
       "     index      Subject ID       count         mean          std          min  \\\n",
       "0     time  BR2_0000210#01   2743040.0  5357.498047  3093.154631     0.000000   \n",
       "1      Fp1  BR2_0000210#01   2743040.0   -11.713426    78.101756 -4990.685893   \n",
       "2      Fp2  BR2_0000210#01   2743040.0    27.059675    79.431962 -4990.327977   \n",
       "3       F3  BR2_0000210#01   2743040.0   -88.300863    74.916126 -4991.043809   \n",
       "4       F4  BR2_0000210#01   2743040.0   -58.152608    75.804326 -4990.149020   \n",
       "...    ...             ...         ...          ...          ...          ...   \n",
       "2474    T6  M6b_0000513#01  78094250.0     0.033917    30.758432 -2286.793317   \n",
       "2475    P3  M6b_0000513#01  78094250.0     0.107160   339.379215 -5000.000000   \n",
       "2476    P4  M6b_0000513#01  78094250.0     0.084863   374.538066 -5000.000000   \n",
       "2477    O1  M6b_0000513#01  78094250.0     0.039952    21.071800 -2314.869917   \n",
       "2478    O2  M6b_0000513#01  78094250.0     0.031878    45.302719 -2713.740749   \n",
       "\n",
       "              25%          50%          75%           max  \n",
       "0     2678.749023  5357.498047  8036.247070  10714.996094  \n",
       "1      -25.143572   -14.406104    -3.131762   5012.518746  \n",
       "2       10.469032    24.606699    39.639155   5012.339788  \n",
       "3      -93.505455   -89.031510   -84.915480   5010.371252  \n",
       "4      -67.914488   -58.787640   -49.123919   5011.087083  \n",
       "...           ...          ...          ...           ...  \n",
       "2474    -7.858396    -0.228885     7.553216   5000.000000  \n",
       "2475  -206.225681     0.076295   207.751583   5000.000000  \n",
       "2476  -231.403067    -0.381476   232.013428   5000.000000  \n",
       "2477    -7.553216     0.076295     7.553216   2598.992905  \n",
       "2478    -9.079118     0.228885     9.384298   5000.000000  \n",
       "\n",
       "[2479 rows x 10 columns]"
      ]
     },
     "execution_count": 8,
     "metadata": {},
     "output_type": "execute_result"
    }
   ],
   "source": [
    "combined_descriptions"
   ]
  },
  {
   "cell_type": "markdown",
   "metadata": {},
   "source": [
    "**Relationships Between Attributes**\n",
    "\n",
    "Duration and Seizures:\n",
    "As mentioned in the loading process, the number of seizures in an EEG is often related to the duration. To verify if this the case for the data available, a few values are calculated. When calculating the Pearson Correlation Coefficient between duration and number of seizures, this gives a number of 0.76, indicating there is a strong relationship between the two. This is calculated on data where one or more seizures occur. When calculating it on the entire dataset, including recording with no seizures, the PCC is 0.73.\n",
    "\n",
    "The scatter plot shows the spread of EEG duration against number of seizures. This visualizes an important relationship between the two variables and indeed shows that the longest recordings contain the most seizures, although, only a few values account for a high number of seizures. When detecting outliers with the Z-score method, only the recording with 267 seizures is seen as an outlier."
   ]
  },
  {
   "cell_type": "code",
   "execution_count": null,
   "metadata": {},
   "outputs": [],
   "source": [
    "cols = ['Duration (s)', 'Seizures', 'Sum (s)', 'Avg (s)', 'Min (s)', 'Max (s)']\n",
    "data_description_df[cols] = data_description_df[cols].apply(pd.to_numeric)\n",
    "data_description_df['Duration (h)'] = data_description_df['Duration (s)'] / 3600"
   ]
  },
  {
   "cell_type": "code",
   "execution_count": null,
   "metadata": {},
   "outputs": [],
   "source": [
    "sns.lmplot(x='Duration (h)' , y='Number of seizures', data=data_description_df, height=6, aspect=1)\n",
    "plt.title('Relationship Between EEG Duration and Number of Seizures')\n",
    "plt.xlabel('EEG duration in hours')\n",
    "plt.ylabel('Number of seizures')\n",
    "plt.show()"
   ]
  },
  {
   "cell_type": "code",
   "execution_count": null,
   "metadata": {},
   "outputs": [],
   "source": [
    "corr = np.corrcoef(data_description_df['Duration (s)'], data_description_df['Number of seizures'])[0,1]\n",
    "print(f'Correlation Coefficient: {corr}')"
   ]
  },
  {
   "cell_type": "code",
   "execution_count": null,
   "metadata": {},
   "outputs": [],
   "source": [
    "z_scores = np.abs((data_description_df['Number of seizures'] - data_description_df['Number of seizures'].mean()) / data_description_df['Number of seizures'].std())\n",
    "threshold = 3\n",
    "outliers = data_description_df[z_scores > threshold]\n",
    "outliers"
   ]
  },
  {
   "cell_type": "markdown",
   "metadata": {},
   "source": [
    "### Data Quality"
   ]
  },
  {
   "cell_type": "code",
   "execution_count": null,
   "metadata": {},
   "outputs": [],
   "source": [
    "def consistency_check(file, data_path, seizure_only):\n",
    "    raw = load_raw(data_path, file, seizures_only=seizure_only, load=False)\n",
    "\n",
    "    if raw is not None:\n",
    "        seizures = raw.annotations[raw.annotations.description == 'AANVAL'] # Annotations with 'SEIZURE' as description\n",
    "        raw.annotations[raw.annotations.description == 'AANVAL']\n",
    "        file_path = os.path.join(data_path, file)\n",
    "\n",
    "\n",
    "        return {\n",
    "            'Subject ID' : '_'.join(os.path.splitext(file)[0].rsplit('_', 2)[-2:]),\n",
    "            'Duration' : timedelta(seconds=int(raw.times[-1])),\n",
    "            'Duration (s)' : int(raw.times[-1]),\n",
    "            'Number of EEG channels' : sum(raw.ch_names),\n",
    "            'Channel names' : raw.ch_names,\n",
    "            'Sampling frequency (Hz)' : len(raw.info['ch_names']),\n",
    "            'Highpass' : raw.info['highpass'],\n",
    "            'Lowpass' : raw.info['lowpass'],\n",
    "            'File size (MB)' : int(os.path.getsize(file_path) / (1024 ** 2))\n",
    "        }\n",
    "\n",
    "columns = [\n",
    "'Subject ID', 'Duration', 'Duration (s)',\n",
    "'Number of EEG channels', 'Channel names', 'Sampling frequency (Hz)',\n",
    "'Highpass', 'Lowpass', 'File size (MB)'\n",
    "]\n",
    "\n",
    "data_quality_df = pd.DataFrame(columns=columns)"
   ]
  },
  {
   "cell_type": "code",
   "execution_count": null,
   "metadata": {},
   "outputs": [],
   "source": [
    "for file in tqdm(seizure_files):\n",
    "    file_info = get_eeg_info(file, data_path, seizure_only=True)\n",
    "    data_quality_df = pd.concat([data_quality_df, pd.DataFrame([file_info])], ignore_index=True)"
   ]
  },
  {
   "cell_type": "markdown",
   "metadata": {},
   "source": [
    "\n",
    "Pz:\n",
    "\n",
    "All recordings have 19 EEG channels, except for (insert subject id) as does not include a Pz electrode. This missing data will be filled with the mean value of the other electrodes, as verified with R. van den Berg. Another possibility would have been to interpolate the values based on other electrodes in the Parietal region. This may have been a good option in the case of a “normal” EEG, but since this concerns data with seizures, doing this is not as reliable as just using the mean values of all electrodes. "
   ]
  }
 ],
 "metadata": {
  "kernelspec": {
   "display_name": "eeg",
   "language": "python",
   "name": "python3"
  },
  "language_info": {
   "codemirror_mode": {
    "name": "ipython",
    "version": 3
   },
   "file_extension": ".py",
   "mimetype": "text/x-python",
   "name": "python",
   "nbconvert_exporter": "python",
   "pygments_lexer": "ipython3",
   "version": "3.11.5"
  },
  "orig_nbformat": 4
 },
 "nbformat": 4,
 "nbformat_minor": 2
}
