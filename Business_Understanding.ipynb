{
 "cells": [
  {
   "cell_type": "markdown",
   "metadata": {},
   "source": [
    "# CRISP-DM: Business Understanding"
   ]
  },
  {
   "cell_type": "markdown",
   "metadata": {},
   "source": [
    "## Determine Business Objectives"
   ]
  },
  {
   "cell_type": "markdown",
   "metadata": {},
   "source": [
    "### Background"
   ]
  },
  {
   "cell_type": "markdown",
   "metadata": {},
   "source": [
    "**Erasmus MC**\n",
    "\n",
    "Erasmus MC is a university medical center located in Rotterdam, the Netherlands. This UMC is the academic hospital and medical faculty of Erasmus University Rotterdam. It specializes in various medical disciplines and consists of 50 medical and scientific departments. \n",
    "\n",
    "According to Erasmus MC (2023), the hospital identifies three core tasks: patient care, education and training, valorization and scientific research. The mission Erasmus MC is working towards is a healthy population and excellent care through research and education. Its ambitions follow from the vision of recognized leadership in innovations for health and care. In total, almost 17 thousant employees and more than 4 thousand students work at Erasmus MC. The UMC is known for its expertise and has 56 recognized centers for treating rare diseases. In addition, they participated in 23 of the 24 European Reference Networks: a network between healthcare organization in the EU intended to communicate about rare diseases and conditions that require specialized knowledge and resources (European Commission, n.d.).\n",
    "\n",
    "This project takes place within the Neurology department, but has overlap with Sophia's Pediatric Intensive Care Unit (PICU). The data used in the project is from patients admitted to the PICU. Patients aged 0 to 18 with an (acute) life-threatening condition are treated here. The function of the brain, breathing and blood circulation are continuously monitored. According to Erasmus MC (2022), their PICU is among the top 5 in Europe in the field of research, patient care, and education. The department has 36 beds spread over 5 units: Cardiology, Neurology, Neonatal, ECMO and High Care. The High Care unit offers 7 more beds. The PICU consults with other departments, including Neurology, where neurologists monitor and review EEGs. "
   ]
  },
  {
   "cell_type": "markdown",
   "metadata": {},
   "source": [
    "**Stakeholders**\n",
    "\n",
    "There are various stakeholders who may be involed in the project. They can influence implementation and results. They range from internal parties within Erasmus MC to external stakeholders who contribute to the success of the research in various ways. \n",
    "\n",
    "- Erasmus MC. As the hospital where the research is conducted, Erasmus MC has a direct interest in the results. The UMC strives for innovation in healthcare and can benefit from improvements in patient treatment. \n",
    "- Sophia and PICU. The children's hospital is part of Erasmus MC and is therefore involved closely. The patient group concerns children who are treated in the hospital's PICU. \n",
    "- Neurology Department. The project falls under the Neurology department, which means it has direct involvement. The department is responsible for treating patients with neurological problems, including epileptic seizures.\n",
    "- Medical professionals. This stakeholder group includes the project's supervisor Robert van den Berg (neurologist/clinical neurophysiologist). With their expertise, results of the process and the model are assessed and validated. Their insights and help are essential for the research.\n",
    "- Research suite Erasmus MC (including Syntho). This facility may be able to help with data augmentation and synthetization. An initiative has recently been started in collaboration with Erasmus MC and the company Syntho about generating artificial data. \n",
    "- Patients and loved ones. The patients themselves, their families, friends, or others involved are important stakeholders. The research may have direct consequences for treatment in the long term, which affects health outcomes. \n",
    "- HZ University of Applied Sciences. The university is a partner because the research is carried out as a part of the HBO-ICT study programme. The school, teachers, and Data Science Lectoraat can contribute to the methodological, technical, and scientific aspects of the research. This include the project's supervisor Bente Sinke and graduation coordinator Jolene Cijsouw."
   ]
  },
  {
   "cell_type": "markdown",
   "metadata": {},
   "source": [
    "**Problem area**\n",
    "\n",
    " Electroencephalography (EEG) is the primary tool for diagnosing epilepsy. The technique measures electrical activity in the brain, which is then assessed by neurologists to determine if certain abnormalities can be observed. Detecting epileptic seizures can be a challenging task, as it demands time-consuming manual assessment from physicians. Depending on the type of seizure, it may manifest differently on an EEG. Seizures can involve changes in frequency, pattern, and location (Hirsch et al., 2021). During continuous brain function monitoring, which is common in Intensive Care Units, physicians have to assess days of recordings. Depending on the situation, they may monitor the EEG real-time or at periodic intervals, such as hourly checks. Despite the expertise of neurologists, the assessment of an EEG is not devoid of interpretive inconsistencies. \"Because there is no gold standard for EEG interpretations, true accuracy cannot be measured.\" (Grant et al., 2014). This is especially problematic when seizures go unnoticed in life-threatening cases, such as in comatose patients. Monitoring their function is a time-intensive task, especially when the seizures are clinically subtle, as some patients may not show an external reaction to the seizure in their state. \n",
    "\n",
    "Most of the research endavors, protocols, and guidelines are tailored towards adult patients. This leaves a notable gap in the understanding and management of seizures in children, making it particularly concerning given the diffierences between the child's developing braing and the mature adult brain. This necessitates research efforts specifically for this patient group. Comatose children represent an even more vulnerable type of patient that requires specialized care and attention in the PICU. "
   ]
  },
  {
   "cell_type": "markdown",
   "metadata": {},
   "source": [
    "**Current solution**\n",
    "\n",
    "In previous studies, Erasmus MC discovered that deep learning models can outperform classical machine learning models in some cases. While DL demonstrate impressive performance, its inherent lack of transparency poses a challenge for implementation, particularly in medical settings where understanding the rationale behind specific outputs is crucial. This is one of the reasons why researchers often focus on nonblack-box classifiers such as rnadom forest and decision trees. However, the question has been raised whether deep learning results could potentially uncover novel bio-markers. Perhaps there exist patterns or features that have yet to be identified, but are indicative of epileptic activity. This makes it interesting to further research the usage of DL algorithms. \n",
    "\n",
    "Research shows there are various approaches in applying deep learning for EEG analysis. Three reviews have been published that compile results from many articles in which DL is applied for tasks related to EEG data (Craik et al., 2019; Roy et al., 2019; Shoeibi et al.,\n",
    "2021). According to all three, the most common approaches in deep learning model architectures for EEG analysis are by far Convolutional Neural Networks (CNN). Although differing in favor across publications, other common architectures tend to be Recurrent Neural Networks (RNN), CNN\n",
    "combinations, Autoencoders, and Deep Belief Networks. For seizure detection tasks the most common architectures are CNN, RNN and CNN-RNN combinations. \n",
    "\n",
    "Seizure detection studies show a strong preference for CNN models, which is the selected architecture for 45-55% of the reviewed papers by Craik et al. (2019) and Shoeibi et al. (2021). Unlike the other two reviews, the research done by Shoeibi et al. (2021) focuses specifically on the\n",
    "detection of epileptic seizures, rather than other EEG analysis or classification tasks. It is mentioned that models with 2D-CNN architectures, followed by 1D-CNN models, are most commonly used for seizure detection.\n",
    "\n",
    "Research by Ansari et al. (2019) for seizure detection presented a 2D-CNN and a random forest classifier to automatically optimize feature selection and binary classification. The EEG data used originates from Sophia’s neonatal ICU (Erasmus\n",
    "MC). 55 features are used in the algorithms, extracted from the frequency domain, time domain, and information theory. Performance metrics of the CNN were: AUC of 88%, recall of 82%, and specificity of 84%."
   ]
  },
  {
   "cell_type": "markdown",
   "metadata": {},
   "source": [
    "### Business Objectives"
   ]
  },
  {
   "cell_type": "markdown",
   "metadata": {},
   "source": [
    "Erasmus MC's core tasks are patient care, education and training, valorization and scientific research.\n",
    "Keeping this in mind, there are objectives from a business perspective that this research can contribute to. The results of this research are not able to achieve the business objectives directly, but do contribute in the long term. It is important to note that setting success criteria for the project is difficult. The project contributes to the objectives, but not in a measurable way. In terms of this project, there are a few objectives Erasmus MC hopes to achieve in the future. The following objectives are set within the context:"
   ]
  },
  {
   "cell_type": "markdown",
   "metadata": {},
   "source": [
    "**Stimulate innovation through research**\n",
    "\n",
    "Stimulating innovation through research can be achieved regardless of the model results. Therefore, it has no measurable success criteria other than the grading of the project. The attempt at developing a deep learning model to classify EEG segments as seizure or non-seizure will set a foundation for further research conducted at Erasmus MC. "
   ]
  },
  {
   "cell_type": "markdown",
   "metadata": {},
   "source": [
    "**Optimize occupancy of beds and staff deployment**\n",
    "\n",
    "An implemented model that can detect seizures promises to not only alleviate the workload of staff, but also assist in decision-making processes, optimize bed occupancy and improve nursing workforce staffing. The last two are especialy important considering the increasing shortage of nurses in the Netherlands, as reported by the Capaciteitsorgaan (2022). The intake for POCU nurse training has been around 40 students per year in recent years, while they advise to have an intake of over 100 students per year. This indiated the already existing staff shortage, which is likely to worsen in the coming years. One nurse is currently needed for every 2-3 beds in the PICU. It emphasizes the need for technologies that can help with these problems. An implemented model would directly affect bed occupancy as well. If a system can confirm that seizures are not or no longer occuring in patients it could help to decide if patients can be moved to a less critical unit, freeing up beds for new patients at the PICU. "
   ]
  },
  {
   "cell_type": "markdown",
   "metadata": {},
   "source": [
    "**Discovering a new biomarker**\n",
    "\n",
    "Deep learning results may be indicative of features in the EEG that point to seizure activity. Neurologists use their years of training to assess EEGs by experience and standards. There lies possible discovery of abnormality indicators in EEG with deep learning. Unlike classical machine learning methods, DL can be applied to raw or minimally processed data to learn (new) relevant patterns and features."
   ]
  },
  {
   "cell_type": "markdown",
   "metadata": {},
   "source": [
    "### Business Success Criteria"
   ]
  },
  {
   "cell_type": "markdown",
   "metadata": {},
   "source": [
    "In the long term, reducing the ICU nurse shortage could be seen as success criteria. The demand for PICU nurses will have to grow with 1.7% per year\n",
    "in the coming years. Considering that the number of PICU nurses has remained approximately the\n",
    "same in recent years, it would be an ideal situation if this predicted growth would no longer be as\n",
    "pressing with implemented technologies.\n",
    "\n",
    "While there are reported inconsistencies in EEG interpretation, there is no clear\n",
    "number of missed seizures due to lack of true interpretation. Especially if there is a possibility that\n",
    "there are indications for seizures in an EEG that specialists are unaware of as of now. An increased\n",
    "rate of detected seizures would not necessarily indicate that detection has improved, as this would be\n",
    "quite dependent on the patients and cases.\n",
    "\n",
    "It is important to note that this research will not achieve the business objectives directly. Success\n",
    "criteria is difficult to establish in this context. Instead, the results contribute to the overall objectives,\n",
    "but not in a measurable way. A global objective is to stimulate innovation through research, which is\n",
    "what will be achieved regardless. The attempt at developing a deep learning model to classify EEG\n",
    "segments as seizure or non-seizure will set a foundation for further research conducted at Erasmus MC,\n",
    "hopefully working towards achieving objectives in the future."
   ]
  },
  {
   "cell_type": "markdown",
   "metadata": {},
   "source": [
    "## Assess Situation"
   ]
  },
  {
   "cell_type": "markdown",
   "metadata": {},
   "source": [
    "The Digital Research Environment (DRE) is used by various UMCs in the Netherlands to conduct research while accounting for security, data privacy, and computational needs. The workspace (Azure Virtual Machine) can be scaled upon request. The VM is isolated in the sense that there is so Internet access outside whitelisted domains. This is to minimize the risk of a data breach. The workspace includes installed software that is used for the project, such as Visual Studio Code and the installation of Python, Mini Conda and relevant packages.  The virtual machine\n",
    "provides 64 GB RAM with 16 cores.\n",
    "\n",
    "The data used for the research is from (medically-induced) comatose pediatric patients. The selection consists of 127 EEG recordings from such patients in Erasmus MC's PICU. The data is stored on and accessible through the anDREa workspace. \n",
    "Access to EEG data from these patients is provided within this research setting. The Neurology department facilitates the collection of relevant and specific data originating from Sophia’s\n",
    "PICU. The recording equipment used is the OSG BrainRT system, according to the 10-20 system with 9 electrodes and a sampling frequency of 256 Hz. To further use the data for analysis and modeling it\n",
    "is made available in EDF format, stored on and accessible through a digital research environment. To\n",
    "protect privacy of patients, the subject identifiers have been replaced with pseudonyms before storing on the workspace. As patient data is confidential, the data is not shared as a part of this report.\n",
    "\n",
    "R. van den Berg (neurologist) is the supervisor for this project and also the main source of information when it comes to personnel sources and neurology expertise"
   ]
  },
  {
   "cell_type": "markdown",
   "metadata": {},
   "source": [
    "## Determine Data Mining Goals"
   ]
  },
  {
   "cell_type": "markdown",
   "metadata": {},
   "source": [
    "### Data Mining Goals"
   ]
  },
  {
   "cell_type": "markdown",
   "metadata": {},
   "source": [
    "To contribute to the business objectives, the main data mining goal is to develop a deep learning\n",
    "classification model that can distinguish between EEG fragments with seizure activity and non-seizure\n",
    "brain activity. The non-seizure segments could take place before, in between, or after seizures. However,\n",
    "this classification is not made and the temporal relation is not analyzed in this project. The segments\n",
    "are classified as either seizure or non-seizure.\n",
    "The primary focus of the project extends beyond the conventional data mining goals of achieving the\n",
    "best possible model performance and results. While the aim is to develop a functional deep learning\n",
    "model, the main goal is to contribute to the broader objective as mentioned above. This mean that the\n",
    "success is not entirely dependent on obtaining high model metric results. The emphasis lies in creating\n",
    "a foundation for further research and innovation at Erasmus MC. It is rather an exploration of the\n",
    "application of deep learning, and great model results are expected to be achieved at a later point."
   ]
  },
  {
   "cell_type": "markdown",
   "metadata": {},
   "source": [
    "### Data Mining Success Criteria"
   ]
  },
  {
   "cell_type": "markdown",
   "metadata": {},
   "source": [
    "For the model to be functional a threshold for success criteria can be set. The minimum for accuracy\n",
    "on predictions with no class imbalance is 60%, indicating that it rules out random chance results. In\n",
    "the absence of class imbalance, accuracy is a relevant metric, alongside with recall and precision. A\n",
    "high recall value will ensure that the model captures a large number of seizure instances, which is\n",
    "particularly important in this setting. Missing a seizure can have serious consequences for critical\n",
    "patients. On the other hand, a low number of false positives is also important. A high precision\n",
    "minimizes false alarms causing unnecessary interventions and is important for medical professionals\n",
    "to take the results of a model seriously. A balance between recall and precision can be measured\n",
    "using the F1-score. Preferably, in medical context, the emphasis is set on recall to not risk missing\n",
    "seizures. With that, the success criteria for the F1 score is between 0.7 and 0.8. esides these metrics,\n",
    "a confusion matrix and ROC-AUC curve is used to evaluate model results visually."
   ]
  },
  {
   "cell_type": "markdown",
   "metadata": {},
   "source": [
    "## Product Project Plan"
   ]
  },
  {
   "cell_type": "markdown",
   "metadata": {},
   "source": [
    "### Project Plan"
   ]
  },
  {
   "cell_type": "markdown",
   "metadata": {},
   "source": [
    "The project plan can be found in this folder: Z:/08_DeepLearning_SeizureDetection/_07_CRISP-DM/00_Business Understanding as \"Graduation_Plan.pdf\" \n",
    "Alternatively, it can be found in the GitHub repository where this file is also stored."
   ]
  },
  {
   "cell_type": "markdown",
   "metadata": {},
   "source": [
    "## References"
   ]
  },
  {
   "cell_type": "markdown",
   "metadata": {},
   "source": [
    "Ansari, A. H., Cherian, P. J., Caicedo, A., Naulaers, G., De Vos, M., & Van Huffel, S. (2019). Neonatal seizure\n",
    "\n",
    "detection using deep convolutional neural networks. International Journal of Neural Systems, 29(04), 1850011.\n",
    "\n",
    "https://doi.org/10.1142/s0129065718500119"
   ]
  },
  {
   "cell_type": "markdown",
   "metadata": {},
   "source": [
    "Craik, A., He, Y., & Contreras-Vidal, J. L. (2019). Deep learning for electroencephalogram (EEG) classification tasks:\n",
    "\n",
    "a review. Journal of Neural Engineering, 16(3), 031001. https://doi.org/10.1088/1741-2552/ab0ab5"
   ]
  },
  {
   "cell_type": "markdown",
   "metadata": {},
   "source": [
    "Erasmus MC. (2022, December 21). Vacature: Intensive Care Kinderverpleegkundige. Werken Bij Erasmus MC.\n",
    "\n",
    "https://www.werkenbijerasmusmc.nl/vacature/82822/intensive-care-kinderverpleegkundige-01.06.23.ts"
   ]
  },
  {
   "cell_type": "markdown",
   "metadata": {},
   "source": [
    "Erasmus MC. (2023). Erasmus MC Jaarverslag 2022.\n",
    "\n",
    "https://2022.erasmusmc.f19.nl/cms/api/public/v1/assets/download/project/f96bdc0a-03e8-0000-ca95-c3473fc66ab2/name/Gewaarmerkt%20-%20ErasmusMC%20Jaarverslag%202022.pdf"
   ]
  },
  {
   "cell_type": "markdown",
   "metadata": {},
   "source": [
    "European Commission. (n.d.). European Reference Networks. Health: European Commission.\n",
    "\n",
    "https://health.ec.europa.eu/european-reference-networks_en"
   ]
  },
  {
   "cell_type": "markdown",
   "metadata": {},
   "source": [
    "Grant, A. C., Abdel-Baki, S. G., Weedon, J., Arnedo, V., Chari, G., Koziorynska, E., Lushbough, C., Maus, D.,\n",
    "\n",
    " McSween, T., Mortati, K. A., Reznikov, A., & Omurtag, A. (2014). EEG Interpretation Reliability and\n",
    " \n",
    " Interpreter Confidence: A large single-center study. Epilepsy & Behavior, 32, 102–107.\n",
    " \n",
    " https://doi.org/10.1016/j.yebeh.2014.01.011"
   ]
  },
  {
   "cell_type": "markdown",
   "metadata": {},
   "source": [
    "Hirsch, L. J., Fong, M. W., Leitinger, M., LaRoche, S. M., Beniczky, S., Abend, N. S., Lee, J. W., Wusthoff, C. J.,\n",
    "\n",
    "Hahn, C. D., Westover, M. B., Gerard, E. E., Herman, S. T., Haider, H. A., Osman, G., Ruiz, A. R., Maciel, C. B.,\n",
    "\n",
    "Gilmore, E. J., Fernandez, A., Rosenthal, E. S., . . . Gaspard, N. (2021). American Clinical Neurophysiology Society’s\n",
    "\n",
    "Standardized Critical Care EEG Terminology: 2021 Version. Journal of Clinical Neurophysiology, 38(1), 1–29.\n",
    "\n",
    "https://doi.org/10.1097/wnp.0000000000000806"
   ]
  },
  {
   "cell_type": "markdown",
   "metadata": {},
   "source": [
    "Roy, Y., Banville, H., Albuquerque, I., Gramfort, A., Falk, T. H., & Faubert, J. (2019).\n",
    "\n",
    "Deep learning-based electroencephalography analysis: a systematic review. arXiv (Cornell University).\n",
    "\n",
    "https://doi.org/10.48550/arxiv.1901.05498"
   ]
  },
  {
   "cell_type": "markdown",
   "metadata": {},
   "source": [
    "Shoeibi, A., Khodatars, M., Ghassemi, N., Jafari, M., Moridian, P., Alizadehsani, R., Panahiazar,\n",
    "\n",
    "M., Khozeimeh, F., Zare, A., Hosseini-Nejad, H., Khosravi, A., Atiya, A. F., Aminshahidi, D., Hussain,\n",
    "\n",
    "S., Rouhani, M., Nahavandi, S., & Acharya, U. R. (2021). Epileptic Seizures Detection Using Deep Learning\n",
    "\n",
    "Techniques: A review. International Journal of Environmental Research and Public Health, 18(11), 5780.\n",
    "\n",
    "https://doi.org/10.3390/ijerph18115780"
   ]
  },
  {
   "cell_type": "markdown",
   "metadata": {},
   "source": [
    "Stichting Capaciteitsorgaan. (2022). Capaciteitsplan 2022-2025: Deelrapport 8: FZO-beroepen & Ambulanceverpleegkundigen.\n",
    "\n",
    "http://capaciteitsorgaan.nl/app/uploads/2023/01/Capaciteitsplan-2022_2025-Deelrapport-8-FZOAVP-DEF-12-jan-23.pdf"
   ]
  }
 ],
 "metadata": {
  "language_info": {
   "name": "python"
  },
  "orig_nbformat": 4
 },
 "nbformat": 4,
 "nbformat_minor": 2
}
